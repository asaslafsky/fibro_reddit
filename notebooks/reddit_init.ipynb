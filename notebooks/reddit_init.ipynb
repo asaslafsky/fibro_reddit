{
 "cells": [
  {
   "cell_type": "markdown",
   "id": "72dd8640",
   "metadata": {},
   "source": [
    "# Input Data Explained\n",
    "The input data is multiple jsons separated by new lines. The jsons are RedditComment instances written to the file in json format. More information can be found [here](https://psraw.readthedocs.io/en/staging/Module/about_RedditComment/#parent_id)\n",
    "\n",
    "# Comments Fields of interest\n",
    "- \n",
    "- body: The body of the comment\n",
    "- created_utc: A RedditDate containing the date the comment was created in UTC.\n",
    "- downs: The number of downvotes\n",
    "- id: The comment ID\n",
    "- ... Continue from id\n",
    "- parent_id: ID of the thing this comment is a reply to, either the link or a comment in it\n",
    "- name\n",
    "  ... \n"
   ]
  },
  {
   "cell_type": "code",
   "execution_count": 9,
   "id": "cd0c1854-bd31-4432-85c2-a5da89dbdc83",
   "metadata": {},
   "outputs": [],
   "source": [
    "from glob import glob\n",
    "import zstandard as zstd\n",
    "import json\n",
    "import polars as pl\n",
    "from pathlib import Path\n",
    "import pandas as pd"
   ]
  },
  {
   "cell_type": "code",
   "execution_count": 6,
   "id": "afa6440e",
   "metadata": {},
   "outputs": [],
   "source": [
    "repo_path = Path.cwd().parent\n",
    "data_path = f\"{repo_path}/data/external/Fibromyalgia_comments\"\n",
    "pl_df = pl.read_ndjson(data_path)\n",
    "pd_df = pd.read_json(data_path, lines=True)"
   ]
  },
  {
   "cell_type": "code",
   "execution_count": 24,
   "id": "228f0f81",
   "metadata": {},
   "outputs": [
    {
     "data": {
      "text/plain": [
       "(575689, 75)"
      ]
     },
     "execution_count": 24,
     "metadata": {},
     "output_type": "execute_result"
    }
   ],
   "source": []
  }
 ],
 "metadata": {
  "kernelspec": {
   "display_name": "venv",
   "language": "python",
   "name": "python3"
  },
  "language_info": {
   "codemirror_mode": {
    "name": "ipython",
    "version": 3
   },
   "file_extension": ".py",
   "mimetype": "text/x-python",
   "name": "python",
   "nbconvert_exporter": "python",
   "pygments_lexer": "ipython3",
   "version": "3.11.5"
  }
 },
 "nbformat": 4,
 "nbformat_minor": 5
}
